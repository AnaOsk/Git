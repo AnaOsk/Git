{
  "nbformat": 4,
  "nbformat_minor": 0,
  "metadata": {
    "colab": {
      "provenance": [],
      "authorship_tag": "ABX9TyMuMNXzvVQbKOcQJsU8C6Iw",
      "include_colab_link": true
    },
    "kernelspec": {
      "name": "python3",
      "display_name": "Python 3"
    },
    "language_info": {
      "name": "python"
    }
  },
  "cells": [
    {
      "cell_type": "markdown",
      "metadata": {
        "id": "view-in-github",
        "colab_type": "text"
      },
      "source": [
        "<a href=\"https://colab.research.google.com/github/AnaOsk/Git/blob/main/LV3.ipynb\" target=\"_parent\"><img src=\"https://colab.research.google.com/assets/colab-badge.svg\" alt=\"Open In Colab\"/></a>"
      ]
    },
    {
      "cell_type": "code",
      "execution_count": null,
      "metadata": {
        "id": "dybgGwkrRKeO"
      },
      "outputs": [],
      "source": []
    },
    {
      "cell_type": "code",
      "source": [
        "import numpy as np\n",
        "import scipy.stats as stats\n",
        "from scipy.stats import ttest_ind\n",
        "import math\n",
        "\n",
        "\n",
        "podaci1 = [3.481, 3.477, 3.47, 3.448, 3.472, 3.47, 3.485, 3.464, 3.477, 3.475, 3.472, 3.473, 3.472, 3.47, 3.474]\n",
        "podaci2 = [3.258, 4.254, 3.256, 3.249, 3.241, 3.254, 3.247, 3.257, 3.239, 3.25, 3.258, 3.239, 3.245, 3.24, 3.254  ]\n",
        "n1 = 15\n",
        "n2 = 15\n",
        "# t -test\n",
        "stat, p = ttest_ind(podaci1, podaci2)\n",
        "print(f\"P-vrijednost (t-test) : {p}\")\n",
        "if p < 0.05:\n",
        "  print ( \"Postoji znacajna razlika izmedu podataka1 i podataka2\")\n",
        "else:\n",
        "  print (\"Ne postoji znacajna razlika izmedu podataka1 i podataka2\")\n",
        "if p < 0.01:\n",
        "  print (\"Postoji znacajna razlika izmedu podataka1 i podataka2\")\n",
        "else:\n",
        "  print (\"Ne postoji značajna razlika izmedu podataka1 i podataka2\")\n",
        "\n",
        "X1 = np.mean(podaci1)\n",
        "X2 = np.mean(podaci2)\n",
        "\n",
        "S1 = np.std(podaci1,ddof=1)\n",
        "S2 = np.std(podaci2,ddof=1)\n",
        "\n",
        "Sp = math.sqrt(((n1-1)*S1*S1 + (n2-1)*S2*S2)/(n1+n2 -2))\n",
        "t_vrijednost = stats.t.ppf(0.95/2, df=n1+n2-2)\n",
        "marginalna_pogreska = t_vrijednost * Sp * math.sqrt(1/n1 + 1/n2)\n",
        "donja_granica = X1 - X2 - marginalna_pogreska\n",
        "gornja_granica = X1 - X2 + marginalna_pogreska\n",
        "\n",
        "print(f\"t_vrijednost : {t_vrijednost}\")\n",
        "print(f\"Mozemo sa sigurnoscu 95%  reci da se razlika srednjih vrijednosti nalazi u intervalu ({donja_granica: }, {gornja_granica})\")\n",
        "\n",
        "\n",
        "\n",
        "\n",
        "\n",
        "\n"
      ],
      "metadata": {
        "colab": {
          "base_uri": "https://localhost:8080/"
        },
        "id": "GJg60n41RcD5",
        "outputId": "bd7931ef-18b8-4d37-cfca-ee1847c4d721"
      },
      "execution_count": 11,
      "outputs": [
        {
          "output_type": "stream",
          "name": "stdout",
          "text": [
            "P-vrijednost (t-test) : 0.027514189008625324\n",
            "Postoji znacajna razlika izmedu podataka1 i podataka2\n",
            "Ne postoji značajna razlika izmedu podataka1 i podataka2\n",
            "t_vrijednost : -0.06327130141807907\n",
            "Mozemo sa sigurnoscu 95%  reci da se razlika srednjih vrijednosti nalazi u intervalu ( 0.1601759333815204, 0.15169073328514746)\n"
          ]
        }
      ]
    }
  ]
}