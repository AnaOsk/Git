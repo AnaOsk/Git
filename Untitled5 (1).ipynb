{
  "nbformat": 4,
  "nbformat_minor": 0,
  "metadata": {
    "colab": {
      "provenance": []
    },
    "kernelspec": {
      "name": "python3",
      "display_name": "Python 3"
    },
    "language_info": {
      "name": "python"
    }
  },
  "cells": [
    {
      "cell_type": "markdown",
      "source": [
        "Importanje  potrebnog"
      ],
      "metadata": {
        "id": "AW-zI4jhI3qV"
      }
    },
    {
      "cell_type": "code",
      "execution_count": 29,
      "metadata": {
        "id": "Ze8NKqEVIW36"
      },
      "outputs": [],
      "source": [
        "import pandas as pd\n",
        "import numpy as np\n",
        "import seaborn as sns\n",
        "import matplotlib.pyplot as plt\n",
        "from scipy.stats import f_oneway, shapiro\n",
        "from sklearn.linear_model import LinearRegression\n",
        "from sklearn.model_selection import train_test_split\n",
        "from sklearn.metrics import mean_squared_error\n",
        "\n",
        "import pandas as pd\n",
        "import numpy as np\n",
        "import matplotlib.pyplot as plt\n",
        "import scipy.stats as stats\n",
        "import seaborn as sns\n",
        "import statsmodels.api as sm\n",
        "from statsmodels.formula.api import ols\n",
        "from statsmodels.stats.multicomp import pairwise_tukeyhsd\n",
        "from scipy.stats import levene\n",
        "from scipy.stats import f_oneway\n",
        "from scipy.stats import shapiro\n",
        "from scipy.stats import kruskal\n"
      ]
    },
    {
      "cell_type": "code",
      "source": [],
      "metadata": {
        "id": "eisWuUcjTDmI"
      },
      "execution_count": null,
      "outputs": []
    },
    {
      "cell_type": "markdown",
      "source": [
        "Ucitavanje dataseta koji cemo koristiti za vjezbu - https://archive.ics.uci.edu/dataset/545/rice+cammeo+and+osmancik"
      ],
      "metadata": {
        "id": "h6ZnQO2KIiIt"
      }
    },
    {
      "cell_type": "code",
      "source": [
        "import pandas as pd\n",
        "from scipy.io import arff\n",
        "data = arff.loadarff('/content/Rice_Cammeo_Osmancik.arff')\n",
        "train= pd.DataFrame(data[0])\n",
        "train.head()"
      ],
      "metadata": {
        "colab": {
          "base_uri": "https://localhost:8080/",
          "height": 206
        },
        "id": "HbGCJ3GcPv16",
        "outputId": "b34f8950-6a64-4945-ea8f-0a3c5040a9b0"
      },
      "execution_count": 5,
      "outputs": [
        {
          "output_type": "execute_result",
          "data": {
            "text/plain": [
              "      Area   Perimeter  Major_Axis_Length  Minor_Axis_Length  Eccentricity  \\\n",
              "0  15231.0  525.578979         229.749878          85.093788      0.928882   \n",
              "1  14656.0  494.311005         206.020065          91.730972      0.895405   \n",
              "2  14634.0  501.122009         214.106781          87.768288      0.912118   \n",
              "3  13176.0  458.342987         193.337387          87.448395      0.891861   \n",
              "4  14688.0  507.166992         211.743378          89.312454      0.906691   \n",
              "\n",
              "   Convex_Area    Extent      Class  \n",
              "0      15617.0  0.572896  b'Cammeo'  \n",
              "1      15072.0  0.615436  b'Cammeo'  \n",
              "2      14954.0  0.693259  b'Cammeo'  \n",
              "3      13368.0  0.640669  b'Cammeo'  \n",
              "4      15262.0  0.646024  b'Cammeo'  "
            ],
            "text/html": [
              "\n",
              "  <div id=\"df-db344f30-7fb4-49f8-95ac-9d7d32b08c34\" class=\"colab-df-container\">\n",
              "    <div>\n",
              "<style scoped>\n",
              "    .dataframe tbody tr th:only-of-type {\n",
              "        vertical-align: middle;\n",
              "    }\n",
              "\n",
              "    .dataframe tbody tr th {\n",
              "        vertical-align: top;\n",
              "    }\n",
              "\n",
              "    .dataframe thead th {\n",
              "        text-align: right;\n",
              "    }\n",
              "</style>\n",
              "<table border=\"1\" class=\"dataframe\">\n",
              "  <thead>\n",
              "    <tr style=\"text-align: right;\">\n",
              "      <th></th>\n",
              "      <th>Area</th>\n",
              "      <th>Perimeter</th>\n",
              "      <th>Major_Axis_Length</th>\n",
              "      <th>Minor_Axis_Length</th>\n",
              "      <th>Eccentricity</th>\n",
              "      <th>Convex_Area</th>\n",
              "      <th>Extent</th>\n",
              "      <th>Class</th>\n",
              "    </tr>\n",
              "  </thead>\n",
              "  <tbody>\n",
              "    <tr>\n",
              "      <th>0</th>\n",
              "      <td>15231.0</td>\n",
              "      <td>525.578979</td>\n",
              "      <td>229.749878</td>\n",
              "      <td>85.093788</td>\n",
              "      <td>0.928882</td>\n",
              "      <td>15617.0</td>\n",
              "      <td>0.572896</td>\n",
              "      <td>b'Cammeo'</td>\n",
              "    </tr>\n",
              "    <tr>\n",
              "      <th>1</th>\n",
              "      <td>14656.0</td>\n",
              "      <td>494.311005</td>\n",
              "      <td>206.020065</td>\n",
              "      <td>91.730972</td>\n",
              "      <td>0.895405</td>\n",
              "      <td>15072.0</td>\n",
              "      <td>0.615436</td>\n",
              "      <td>b'Cammeo'</td>\n",
              "    </tr>\n",
              "    <tr>\n",
              "      <th>2</th>\n",
              "      <td>14634.0</td>\n",
              "      <td>501.122009</td>\n",
              "      <td>214.106781</td>\n",
              "      <td>87.768288</td>\n",
              "      <td>0.912118</td>\n",
              "      <td>14954.0</td>\n",
              "      <td>0.693259</td>\n",
              "      <td>b'Cammeo'</td>\n",
              "    </tr>\n",
              "    <tr>\n",
              "      <th>3</th>\n",
              "      <td>13176.0</td>\n",
              "      <td>458.342987</td>\n",
              "      <td>193.337387</td>\n",
              "      <td>87.448395</td>\n",
              "      <td>0.891861</td>\n",
              "      <td>13368.0</td>\n",
              "      <td>0.640669</td>\n",
              "      <td>b'Cammeo'</td>\n",
              "    </tr>\n",
              "    <tr>\n",
              "      <th>4</th>\n",
              "      <td>14688.0</td>\n",
              "      <td>507.166992</td>\n",
              "      <td>211.743378</td>\n",
              "      <td>89.312454</td>\n",
              "      <td>0.906691</td>\n",
              "      <td>15262.0</td>\n",
              "      <td>0.646024</td>\n",
              "      <td>b'Cammeo'</td>\n",
              "    </tr>\n",
              "  </tbody>\n",
              "</table>\n",
              "</div>\n",
              "    <div class=\"colab-df-buttons\">\n",
              "\n",
              "  <div class=\"colab-df-container\">\n",
              "    <button class=\"colab-df-convert\" onclick=\"convertToInteractive('df-db344f30-7fb4-49f8-95ac-9d7d32b08c34')\"\n",
              "            title=\"Convert this dataframe to an interactive table.\"\n",
              "            style=\"display:none;\">\n",
              "\n",
              "  <svg xmlns=\"http://www.w3.org/2000/svg\" height=\"24px\" viewBox=\"0 -960 960 960\">\n",
              "    <path d=\"M120-120v-720h720v720H120Zm60-500h600v-160H180v160Zm220 220h160v-160H400v160Zm0 220h160v-160H400v160ZM180-400h160v-160H180v160Zm440 0h160v-160H620v160ZM180-180h160v-160H180v160Zm440 0h160v-160H620v160Z\"/>\n",
              "  </svg>\n",
              "    </button>\n",
              "\n",
              "  <style>\n",
              "    .colab-df-container {\n",
              "      display:flex;\n",
              "      gap: 12px;\n",
              "    }\n",
              "\n",
              "    .colab-df-convert {\n",
              "      background-color: #E8F0FE;\n",
              "      border: none;\n",
              "      border-radius: 50%;\n",
              "      cursor: pointer;\n",
              "      display: none;\n",
              "      fill: #1967D2;\n",
              "      height: 32px;\n",
              "      padding: 0 0 0 0;\n",
              "      width: 32px;\n",
              "    }\n",
              "\n",
              "    .colab-df-convert:hover {\n",
              "      background-color: #E2EBFA;\n",
              "      box-shadow: 0px 1px 2px rgba(60, 64, 67, 0.3), 0px 1px 3px 1px rgba(60, 64, 67, 0.15);\n",
              "      fill: #174EA6;\n",
              "    }\n",
              "\n",
              "    .colab-df-buttons div {\n",
              "      margin-bottom: 4px;\n",
              "    }\n",
              "\n",
              "    [theme=dark] .colab-df-convert {\n",
              "      background-color: #3B4455;\n",
              "      fill: #D2E3FC;\n",
              "    }\n",
              "\n",
              "    [theme=dark] .colab-df-convert:hover {\n",
              "      background-color: #434B5C;\n",
              "      box-shadow: 0px 1px 3px 1px rgba(0, 0, 0, 0.15);\n",
              "      filter: drop-shadow(0px 1px 2px rgba(0, 0, 0, 0.3));\n",
              "      fill: #FFFFFF;\n",
              "    }\n",
              "  </style>\n",
              "\n",
              "    <script>\n",
              "      const buttonEl =\n",
              "        document.querySelector('#df-db344f30-7fb4-49f8-95ac-9d7d32b08c34 button.colab-df-convert');\n",
              "      buttonEl.style.display =\n",
              "        google.colab.kernel.accessAllowed ? 'block' : 'none';\n",
              "\n",
              "      async function convertToInteractive(key) {\n",
              "        const element = document.querySelector('#df-db344f30-7fb4-49f8-95ac-9d7d32b08c34');\n",
              "        const dataTable =\n",
              "          await google.colab.kernel.invokeFunction('convertToInteractive',\n",
              "                                                    [key], {});\n",
              "        if (!dataTable) return;\n",
              "\n",
              "        const docLinkHtml = 'Like what you see? Visit the ' +\n",
              "          '<a target=\"_blank\" href=https://colab.research.google.com/notebooks/data_table.ipynb>data table notebook</a>'\n",
              "          + ' to learn more about interactive tables.';\n",
              "        element.innerHTML = '';\n",
              "        dataTable['output_type'] = 'display_data';\n",
              "        await google.colab.output.renderOutput(dataTable, element);\n",
              "        const docLink = document.createElement('div');\n",
              "        docLink.innerHTML = docLinkHtml;\n",
              "        element.appendChild(docLink);\n",
              "      }\n",
              "    </script>\n",
              "  </div>\n",
              "\n",
              "\n",
              "<div id=\"df-30d66d79-7175-4ebb-af03-226b93e7d999\">\n",
              "  <button class=\"colab-df-quickchart\" onclick=\"quickchart('df-30d66d79-7175-4ebb-af03-226b93e7d999')\"\n",
              "            title=\"Suggest charts\"\n",
              "            style=\"display:none;\">\n",
              "\n",
              "<svg xmlns=\"http://www.w3.org/2000/svg\" height=\"24px\"viewBox=\"0 0 24 24\"\n",
              "     width=\"24px\">\n",
              "    <g>\n",
              "        <path d=\"M19 3H5c-1.1 0-2 .9-2 2v14c0 1.1.9 2 2 2h14c1.1 0 2-.9 2-2V5c0-1.1-.9-2-2-2zM9 17H7v-7h2v7zm4 0h-2V7h2v10zm4 0h-2v-4h2v4z\"/>\n",
              "    </g>\n",
              "</svg>\n",
              "  </button>\n",
              "\n",
              "<style>\n",
              "  .colab-df-quickchart {\n",
              "      --bg-color: #E8F0FE;\n",
              "      --fill-color: #1967D2;\n",
              "      --hover-bg-color: #E2EBFA;\n",
              "      --hover-fill-color: #174EA6;\n",
              "      --disabled-fill-color: #AAA;\n",
              "      --disabled-bg-color: #DDD;\n",
              "  }\n",
              "\n",
              "  [theme=dark] .colab-df-quickchart {\n",
              "      --bg-color: #3B4455;\n",
              "      --fill-color: #D2E3FC;\n",
              "      --hover-bg-color: #434B5C;\n",
              "      --hover-fill-color: #FFFFFF;\n",
              "      --disabled-bg-color: #3B4455;\n",
              "      --disabled-fill-color: #666;\n",
              "  }\n",
              "\n",
              "  .colab-df-quickchart {\n",
              "    background-color: var(--bg-color);\n",
              "    border: none;\n",
              "    border-radius: 50%;\n",
              "    cursor: pointer;\n",
              "    display: none;\n",
              "    fill: var(--fill-color);\n",
              "    height: 32px;\n",
              "    padding: 0;\n",
              "    width: 32px;\n",
              "  }\n",
              "\n",
              "  .colab-df-quickchart:hover {\n",
              "    background-color: var(--hover-bg-color);\n",
              "    box-shadow: 0 1px 2px rgba(60, 64, 67, 0.3), 0 1px 3px 1px rgba(60, 64, 67, 0.15);\n",
              "    fill: var(--button-hover-fill-color);\n",
              "  }\n",
              "\n",
              "  .colab-df-quickchart-complete:disabled,\n",
              "  .colab-df-quickchart-complete:disabled:hover {\n",
              "    background-color: var(--disabled-bg-color);\n",
              "    fill: var(--disabled-fill-color);\n",
              "    box-shadow: none;\n",
              "  }\n",
              "\n",
              "  .colab-df-spinner {\n",
              "    border: 2px solid var(--fill-color);\n",
              "    border-color: transparent;\n",
              "    border-bottom-color: var(--fill-color);\n",
              "    animation:\n",
              "      spin 1s steps(1) infinite;\n",
              "  }\n",
              "\n",
              "  @keyframes spin {\n",
              "    0% {\n",
              "      border-color: transparent;\n",
              "      border-bottom-color: var(--fill-color);\n",
              "      border-left-color: var(--fill-color);\n",
              "    }\n",
              "    20% {\n",
              "      border-color: transparent;\n",
              "      border-left-color: var(--fill-color);\n",
              "      border-top-color: var(--fill-color);\n",
              "    }\n",
              "    30% {\n",
              "      border-color: transparent;\n",
              "      border-left-color: var(--fill-color);\n",
              "      border-top-color: var(--fill-color);\n",
              "      border-right-color: var(--fill-color);\n",
              "    }\n",
              "    40% {\n",
              "      border-color: transparent;\n",
              "      border-right-color: var(--fill-color);\n",
              "      border-top-color: var(--fill-color);\n",
              "    }\n",
              "    60% {\n",
              "      border-color: transparent;\n",
              "      border-right-color: var(--fill-color);\n",
              "    }\n",
              "    80% {\n",
              "      border-color: transparent;\n",
              "      border-right-color: var(--fill-color);\n",
              "      border-bottom-color: var(--fill-color);\n",
              "    }\n",
              "    90% {\n",
              "      border-color: transparent;\n",
              "      border-bottom-color: var(--fill-color);\n",
              "    }\n",
              "  }\n",
              "</style>\n",
              "\n",
              "  <script>\n",
              "    async function quickchart(key) {\n",
              "      const quickchartButtonEl =\n",
              "        document.querySelector('#' + key + ' button');\n",
              "      quickchartButtonEl.disabled = true;  // To prevent multiple clicks.\n",
              "      quickchartButtonEl.classList.add('colab-df-spinner');\n",
              "      try {\n",
              "        const charts = await google.colab.kernel.invokeFunction(\n",
              "            'suggestCharts', [key], {});\n",
              "      } catch (error) {\n",
              "        console.error('Error during call to suggestCharts:', error);\n",
              "      }\n",
              "      quickchartButtonEl.classList.remove('colab-df-spinner');\n",
              "      quickchartButtonEl.classList.add('colab-df-quickchart-complete');\n",
              "    }\n",
              "    (() => {\n",
              "      let quickchartButtonEl =\n",
              "        document.querySelector('#df-30d66d79-7175-4ebb-af03-226b93e7d999 button');\n",
              "      quickchartButtonEl.style.display =\n",
              "        google.colab.kernel.accessAllowed ? 'block' : 'none';\n",
              "    })();\n",
              "  </script>\n",
              "</div>\n",
              "\n",
              "    </div>\n",
              "  </div>\n"
            ],
            "application/vnd.google.colaboratory.intrinsic+json": {
              "type": "dataframe",
              "variable_name": "train",
              "summary": "{\n  \"name\": \"train\",\n  \"rows\": 3810,\n  \"fields\": [\n    {\n      \"column\": \"Area\",\n      \"properties\": {\n        \"dtype\": \"number\",\n        \"std\": 1732.367706074159,\n        \"min\": 7551.0,\n        \"max\": 18913.0,\n        \"num_unique_values\": 2828,\n        \"samples\": [\n          11144.0,\n          11898.0,\n          12051.0\n        ],\n        \"semantic_type\": \"\",\n        \"description\": \"\"\n      }\n    },\n    {\n      \"column\": \"Perimeter\",\n      \"properties\": {\n        \"dtype\": \"number\",\n        \"std\": 35.59708144273355,\n        \"min\": 359.1000061035156,\n        \"max\": 548.4459838867188,\n        \"num_unique_values\": 3738,\n        \"samples\": [\n          469.6080017089844,\n          516.364990234375,\n          477.4939880371094\n        ],\n        \"semantic_type\": \"\",\n        \"description\": \"\"\n      }\n    },\n    {\n      \"column\": \"Major_Axis_Length\",\n      \"properties\": {\n        \"dtype\": \"number\",\n        \"std\": 17.448678501746855,\n        \"min\": 145.26446533203125,\n        \"max\": 239.010498046875,\n        \"num_unique_values\": 3808,\n        \"samples\": [\n          211.1375732421875,\n          191.06317138671875,\n          187.9770965576172\n        ],\n        \"semantic_type\": \"\",\n        \"description\": \"\"\n      }\n    },\n    {\n      \"column\": \"Minor_Axis_Length\",\n      \"properties\": {\n        \"dtype\": \"number\",\n        \"std\": 5.729817333643744,\n        \"min\": 59.532405853271484,\n        \"max\": 107.54244995117188,\n        \"num_unique_values\": 3804,\n        \"samples\": [\n          85.83971405029297,\n          84.8821792602539,\n          86.10846710205078\n        ],\n        \"semantic_type\": \"\",\n        \"description\": \"\"\n      }\n    },\n    {\n      \"column\": \"Eccentricity\",\n      \"properties\": {\n        \"dtype\": \"number\",\n        \"std\": 0.020817634100477735,\n        \"min\": 0.7772325873374939,\n        \"max\": 0.9480069279670715,\n        \"num_unique_values\": 3803,\n        \"samples\": [\n          0.8997957110404968,\n          0.9009918570518494,\n          0.8977953195571899\n        ],\n        \"semantic_type\": \"\",\n        \"description\": \"\"\n      }\n    },\n    {\n      \"column\": \"Convex_Area\",\n      \"properties\": {\n        \"dtype\": \"number\",\n        \"std\": 1776.9720420835542,\n        \"min\": 7723.0,\n        \"max\": 19099.0,\n        \"num_unique_values\": 2857,\n        \"samples\": [\n          9555.0,\n          10576.0,\n          13738.0\n        ],\n        \"semantic_type\": \"\",\n        \"description\": \"\"\n      }\n    },\n    {\n      \"column\": \"Extent\",\n      \"properties\": {\n        \"dtype\": \"number\",\n        \"std\": 0.07723877328752667,\n        \"min\": 0.49741286039352417,\n        \"max\": 0.8610495328903198,\n        \"num_unique_values\": 3804,\n        \"samples\": [\n          0.5803118944168091,\n          0.6353259086608887,\n          0.5791149735450745\n        ],\n        \"semantic_type\": \"\",\n        \"description\": \"\"\n      }\n    },\n    {\n      \"column\": \"Class\",\n      \"properties\": {\n        \"dtype\": \"category\",\n        \"num_unique_values\": 2,\n        \"samples\": [\n          \"b'Osmancik'\",\n          \"b'Cammeo'\"\n        ],\n        \"semantic_type\": \"\",\n        \"description\": \"\"\n      }\n    }\n  ]\n}"
            }
          },
          "metadata": {},
          "execution_count": 5
        }
      ]
    },
    {
      "cell_type": "code",
      "source": [
        "print(train.info())"
      ],
      "metadata": {
        "colab": {
          "base_uri": "https://localhost:8080/"
        },
        "id": "IlU8JDJMTFeX",
        "outputId": "5bb2ed4f-6f5d-43b8-a4f1-3b57c25dcdfe"
      },
      "execution_count": 6,
      "outputs": [
        {
          "output_type": "stream",
          "name": "stdout",
          "text": [
            "<class 'pandas.core.frame.DataFrame'>\n",
            "RangeIndex: 3810 entries, 0 to 3809\n",
            "Data columns (total 8 columns):\n",
            " #   Column             Non-Null Count  Dtype  \n",
            "---  ------             --------------  -----  \n",
            " 0   Area               3810 non-null   float64\n",
            " 1   Perimeter          3810 non-null   float64\n",
            " 2   Major_Axis_Length  3810 non-null   float64\n",
            " 3   Minor_Axis_Length  3810 non-null   float64\n",
            " 4   Eccentricity       3810 non-null   float64\n",
            " 5   Convex_Area        3810 non-null   float64\n",
            " 6   Extent             3810 non-null   float64\n",
            " 7   Class              3810 non-null   object \n",
            "dtypes: float64(7), object(1)\n",
            "memory usage: 238.3+ KB\n",
            "None\n"
          ]
        }
      ]
    },
    {
      "cell_type": "code",
      "source": [
        "print(train.describe())"
      ],
      "metadata": {
        "colab": {
          "base_uri": "https://localhost:8080/"
        },
        "id": "z_PTvJ7pfBVF",
        "outputId": "3dab076f-5a7d-420e-eda9-f0b034782435"
      },
      "execution_count": 7,
      "outputs": [
        {
          "output_type": "stream",
          "name": "stdout",
          "text": [
            "               Area    Perimeter  Major_Axis_Length  Minor_Axis_Length  \\\n",
            "count   3810.000000  3810.000000        3810.000000        3810.000000   \n",
            "mean   12667.727559   454.239180         188.776222          86.313750   \n",
            "std     1732.367706    35.597081          17.448679           5.729817   \n",
            "min     7551.000000   359.100006         145.264465          59.532406   \n",
            "25%    11370.500000   426.144753         174.353855          82.731695   \n",
            "50%    12421.500000   448.852493         185.810059          86.434647   \n",
            "75%    13950.000000   483.683746         203.550438          90.143677   \n",
            "max    18913.000000   548.445984         239.010498         107.542450   \n",
            "\n",
            "       Eccentricity   Convex_Area       Extent  \n",
            "count   3810.000000   3810.000000  3810.000000  \n",
            "mean       0.886871  12952.496850     0.661934  \n",
            "std        0.020818   1776.972042     0.077239  \n",
            "min        0.777233   7723.000000     0.497413  \n",
            "25%        0.872402  11626.250000     0.598862  \n",
            "50%        0.889050  12706.500000     0.645361  \n",
            "75%        0.902588  14284.000000     0.726562  \n",
            "max        0.948007  19099.000000     0.861050  \n"
          ]
        }
      ]
    },
    {
      "cell_type": "markdown",
      "source": [
        "Koristite boxplot za identifikaciju ekstremnih vrijednosti (outliera) u\n",
        "numeričkim varijablama.\n"
      ],
      "metadata": {
        "id": "D6LUFFBOgUvi"
      }
    },
    {
      "cell_type": "code",
      "source": [
        "sns.boxplot(x=train['Area'])\n",
        "plt.title('Boxplot - Area')\n",
        "plt.show()\n"
      ],
      "metadata": {
        "colab": {
          "base_uri": "https://localhost:8080/",
          "height": 472
        },
        "id": "5nB9KlIOgDgM",
        "outputId": "10e4e1c8-6f50-41ff-f011-e29c65c1e766"
      },
      "execution_count": 8,
      "outputs": [
        {
          "output_type": "display_data",
          "data": {
            "text/plain": [
              "<Figure size 640x480 with 1 Axes>"
            ],
            "image/png": "[encoded data removed]"
          },
          "metadata": {}
        }
      ]
    },
    {
      "cell_type": "markdown",
      "source": [
        "Skewness i Kurtosis: Izračunajte skewness i kurtosis kako biste razumjeli asimetriju i\n",
        "oblik distribucije.\n"
      ],
      "metadata": {
        "id": "O94xElBSgZa_"
      }
    },
    {
      "cell_type": "code",
      "source": [
        "from scipy.stats import skew, kurtosis\n",
        "skewness = skew(train['Area'])\n",
        "kurt = kurtosis(train['Area'])\n",
        "print('Skewness:', skewness)\n",
        "print('Kurtosis:', kurt)"
      ],
      "metadata": {
        "colab": {
          "base_uri": "https://localhost:8080/"
        },
        "id": "SdFQtnh_gkii",
        "outputId": "2c2f6c42-9dc4-4508-c143-62fccd89ab2a"
      },
      "execution_count": 9,
      "outputs": [
        {
          "output_type": "stream",
          "name": "stdout",
          "text": [
            "Skewness: 0.3250300263718561\n",
            "Kurtosis: -0.432090757439608\n"
          ]
        }
      ]
    },
    {
      "cell_type": "markdown",
      "source": [
        "Detekcija i Obrada Nedostajućih Vrijednosti: Koristite vizualizacije kako biste identificirali\n",
        "obrasce nedostajućih vrijednosti.\n"
      ],
      "metadata": {
        "id": "6pWjh3Zlg_J-"
      }
    },
    {
      "cell_type": "code",
      "source": [
        "sns.heatmap(train.isnull(), cbar=False, cmap='viridis')\n",
        "plt.title('Nedostajuće Vrijednosti')\n",
        "plt.show()\n"
      ],
      "metadata": {
        "colab": {
          "base_uri": "https://localhost:8080/",
          "height": 568
        },
        "id": "a97iS5u7g_4l",
        "outputId": "632f8a3c-155a-4258-a581-c0c0073b5823"
      },
      "execution_count": 10,
      "outputs": [
        {
          "output_type": "display_data",
          "data": {
            "text/plain": [
              "<Figure size 640x480 with 1 Axes>"
            ],
            "image/png": "[encoded data removed]"
          },
          "metadata": {}
        }
      ]
    },
    {
      "cell_type": "markdown",
      "source": [
        "Vizualizacija kategorijskih varijabli"
      ],
      "metadata": {
        "id": "VfIlQGc772oB"
      }
    },
    {
      "cell_type": "code",
      "source": [
        "sns.catplot(x='Class', kind='count', data=train)\n",
        "plt.title('Broj instanci po klasi')\n",
        "plt.show()"
      ],
      "metadata": {
        "colab": {
          "base_uri": "https://localhost:8080/",
          "height": 529
        },
        "id": "JdoQg2iv78v9",
        "outputId": "eeeeb9c3-f581-48bd-9e1f-3b71e6ac6fd6"
      },
      "execution_count": 11,
      "outputs": [
        {
          "output_type": "display_data",
          "data": {
            "text/plain": [
              "<Figure size 511.111x500 with 1 Axes>"
            ],
            "image/png": "[encoded data removed]"
          },
          "metadata": {}
        }
      ]
    },
    {
      "cell_type": "markdown",
      "source": [
        "# New Section"
      ],
      "metadata": {
        "id": "EUeo1pAbOMiD"
      }
    },
    {
      "cell_type": "code",
      "source": [
        "stat, p_value = shapiro(train ['Extent'])\n",
        "print( (stat, p_value))\n",
        "if p_value > 0.05:\n",
        "\tprint('Probably Gaussian')\n",
        "else:\n",
        "\tprint('Probably not Gaussian')"
      ],
      "metadata": {
        "colab": {
          "base_uri": "https://localhost:8080/"
        },
        "id": "kS5dmwPHb8pu",
        "outputId": "3a6360ef-cb9d-44d4-9991-a17c0a76cdda"
      },
      "execution_count": 21,
      "outputs": [
        {
          "output_type": "stream",
          "name": "stdout",
          "text": [
            "(0.9519671129190738, 1.2060563660891137e-33)\n",
            "Probably not Gaussian\n"
          ]
        }
      ]
    },
    {
      "cell_type": "markdown",
      "source": [
        "# New Section"
      ],
      "metadata": {
        "id": "Q1HvAqS-ONIp"
      }
    },
    {
      "cell_type": "markdown",
      "source": [
        "Anova one way"
      ],
      "metadata": {
        "id": "STM0BXSoQcwB"
      }
    },
    {
      "cell_type": "code",
      "source": [
        "cammeo_data = train[train['Class'] == 'Cammeo']['Area']  # Replace 'variety' and 'feature_name'\n",
        "osmancik_data = train[train['Class'] == 'Osmancik']['Area']  # Replace 'variety' and 'feature_name'\n"
      ],
      "metadata": {
        "id": "PD51lxY5QhR6"
      },
      "execution_count": 36,
      "outputs": []
    },
    {
      "cell_type": "code",
      "source": [
        "stat, p_value = kruskal(cammeo_data, osmancik_data)\n",
        "print( (stat, p_value))\n",
        "if p_value > 0.05:\n",
        "\tprint('Probably the same distribution')\n",
        "else:\n",
        "\tprint('Probably different distributions')"
      ],
      "metadata": {
        "colab": {
          "base_uri": "https://localhost:8080/"
        },
        "id": "_8riMo8eQ2UV",
        "outputId": "6e429f0e-7c43-415b-ac81-34ddc57c621c"
      },
      "execution_count": 37,
      "outputs": [
        {
          "output_type": "stream",
          "name": "stdout",
          "text": [
            "(nan, nan)\n",
            "Probably different distributions\n"
          ]
        }
      ]
    },
    {
      "cell_type": "markdown",
      "source": [],
      "metadata": {
        "id": "Rv3YqD0QQpho"
      }
    }
  ]
}